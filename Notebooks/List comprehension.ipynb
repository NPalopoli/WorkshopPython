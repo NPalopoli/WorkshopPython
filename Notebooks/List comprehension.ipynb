{
 "metadata": {
  "name": "",
  "signature": "sha256:3556bc948b15f82e632a1f8aeecc736ebabbca5e058516da5d664dd4fd9ce721"
 },
 "nbformat": 3,
 "nbformat_minor": 0,
 "worksheets": [
  {
   "cells": [
    {
     "cell_type": "markdown",
     "metadata": {},
     "source": [
      "#[List Comprehension](https://docs.python.org/2/tutorial/datastructures.html#list-comprehensions)"
     ]
    },
    {
     "cell_type": "code",
     "collapsed": false,
     "input": [
      "numeros = (1,2,3,4,5) # tupla de int\n",
      "\n",
      "print( numeros )"
     ],
     "language": "python",
     "metadata": {},
     "outputs": [
      {
       "output_type": "stream",
       "stream": "stdout",
       "text": [
        "(1, 2, 3, 4, 5)\n"
       ]
      }
     ],
     "prompt_number": 1
    },
    {
     "cell_type": "markdown",
     "metadata": {},
     "source": [
      "Iteraci\u00f3n de la tupla con **for**"
     ]
    },
    {
     "cell_type": "code",
     "collapsed": false,
     "input": [
      "for num in numeros:\n",
      "    print( num ** num )"
     ],
     "language": "python",
     "metadata": {},
     "outputs": [
      {
       "output_type": "stream",
       "stream": "stdout",
       "text": [
        "1\n",
        "4\n",
        "27\n",
        "256\n",
        "3125\n"
       ]
      }
     ],
     "prompt_number": 2
    },
    {
     "cell_type": "markdown",
     "metadata": {},
     "source": [
      "Almacenando los items en un lista usando un loop **for**"
     ]
    },
    {
     "cell_type": "code",
     "collapsed": false,
     "input": [
      "lista = []\n",
      "\n",
      "print( lista )"
     ],
     "language": "python",
     "metadata": {},
     "outputs": [
      {
       "output_type": "stream",
       "stream": "stdout",
       "text": [
        "[]\n"
       ]
      }
     ],
     "prompt_number": 3
    },
    {
     "cell_type": "code",
     "collapsed": false,
     "input": [
      "for num in numeros:\n",
      "    lista.append( num ** num )\n",
      "    \n",
      "print( lista )"
     ],
     "language": "python",
     "metadata": {},
     "outputs": [
      {
       "output_type": "stream",
       "stream": "stdout",
       "text": [
        "[1, 4, 27, 256, 3125]\n"
       ]
      }
     ],
     "prompt_number": 4
    },
    {
     "cell_type": "markdown",
     "metadata": {},
     "source": [
      "Almacenando los items en un lista usando **list comprehension**"
     ]
    },
    {
     "cell_type": "code",
     "collapsed": false,
     "input": [
      "otra_lista = [ num ** num for num in numeros ]\n",
      "\n",
      "print( otra_lista )"
     ],
     "language": "python",
     "metadata": {},
     "outputs": [
      {
       "output_type": "stream",
       "stream": "stdout",
       "text": [
        "[1, 4, 27, 256, 3125]\n"
       ]
      }
     ],
     "prompt_number": 5
    },
    {
     "cell_type": "markdown",
     "metadata": {},
     "source": [
      "Soporte de filtros/condiciones en **list comprehension**"
     ]
    },
    {
     "cell_type": "code",
     "collapsed": false,
     "input": [
      "lista = []\n",
      "for num in numeros:\n",
      "    if num ** num > 30:\n",
      "        lista.append( num ** num )\n",
      "    \n",
      "print( lista )"
     ],
     "language": "python",
     "metadata": {},
     "outputs": [
      {
       "output_type": "stream",
       "stream": "stdout",
       "text": [
        "[256, 3125]\n"
       ]
      }
     ],
     "prompt_number": 6
    },
    {
     "cell_type": "code",
     "collapsed": false,
     "input": [
      "otra_lista = [ num ** num for num in numeros if num ** num > 30 ]\n",
      "\n",
      "print( otra_lista )"
     ],
     "language": "python",
     "metadata": {},
     "outputs": [
      {
       "output_type": "stream",
       "stream": "stdout",
       "text": [
        "[256, 3125]\n"
       ]
      }
     ],
     "prompt_number": 7
    }
   ],
   "metadata": {}
  }
 ]
}