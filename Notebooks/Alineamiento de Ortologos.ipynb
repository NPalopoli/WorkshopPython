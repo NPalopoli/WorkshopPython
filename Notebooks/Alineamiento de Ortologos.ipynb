{
 "metadata": {
  "celltoolbar": "Slideshow",
  "name": "",
  "signature": "sha256:2b5534a02e4272b1231aa64b6d07472823205f950f0c2726555a2a47e4652940"
 },
 "nbformat": 3,
 "nbformat_minor": 0,
 "worksheets": [
  {
   "cells": [
    {
     "cell_type": "code",
     "collapsed": false,
     "input": [
      "! cat utils_notebook.py"
     ],
     "language": "python",
     "metadata": {
      "slideshow": {
       "slide_type": "slide"
      }
     },
     "outputs": [
      {
       "output_type": "stream",
       "stream": "stdout",
       "text": [
        "from IPython.display import HTML\r\n",
        "\r\n",
        "def web(direccion, alto=500):\r\n",
        "    \"\"\"str [, int]\r\n",
        "    Muestra una web\"\"\"\r\n",
        "    code = '<iframe src=\"' + direccion +  '\"  width=100% height=' + str(alto) + '></iframe>'\r\n",
        "    return( HTML(code) )\r\n",
        "\r\n",
        "def wiki(art, idioma=\"en\", modo=None, alto=500):\r\n",
        "    \"\"\"str [, str [, str [, int]]]\r\n",
        "    Muestra una wiki por defecto en idioma 'en'\r\n",
        "    modo por defecto, None (normal). Probar 'mobile' o 'print'\r\n",
        "    \"\"\"\r\n",
        "    if modo==\"print\":\r\n",
        "        direc = 'http://' + idioma + '.wikipedia.org/w/index.php?title=' + art + '&printable=yes'\r\n",
        "    elif modo==\"mobile\":\r\n",
        "        direc = \"http://\" + idioma + \".mobile.wikipedia.org/wiki/\" + art\r\n",
        "    else:\r\n",
        "        direc = \"http://\" + idioma + \".wikipedia.org/wiki/\" + art\r\n",
        "    return( web(direc, alto=alto) )\r\n",
        "\r\n",
        "if __name__ == \"__main__\":\r\n",
        "  print(\"Para importar en IPython Notebook\")\r\n"
       ]
      }
     ],
     "prompt_number": 4
    },
    {
     "cell_type": "code",
     "collapsed": false,
     "input": [
      "import utils_notebook as ut"
     ],
     "language": "python",
     "metadata": {
      "slideshow": {
       "slide_type": "fragment"
      }
     },
     "outputs": [],
     "prompt_number": 5
    },
    {
     "cell_type": "heading",
     "level": 1,
     "metadata": {
      "slideshow": {
       "slide_type": "slide"
      }
     },
     "source": [
      "Filogenia de un grupo de Ort\u00f3logos"
     ]
    },
    {
     "cell_type": "code",
     "collapsed": false,
     "input": [
      "ut.web(\"http://omabrowser.org/cgi-bin/gateway.pl?f=DisplayEntry&p1=ASPOR04405&p2=orthologs\", alto=600)"
     ],
     "language": "python",
     "metadata": {
      "slideshow": {
       "slide_type": "slide"
      }
     },
     "outputs": [
      {
       "html": [
        "<iframe src=\"http://omabrowser.org/cgi-bin/gateway.pl?f=DisplayEntry&p1=ASPOR04405&p2=orthologs\"  width=100% height=600></iframe>"
       ],
       "metadata": {},
       "output_type": "pyout",
       "prompt_number": 6,
       "text": [
        "<IPython.core.display.HTML at 0x7fdcac0eef50>"
       ]
      }
     ],
     "prompt_number": 6
    },
    {
     "cell_type": "code",
     "collapsed": false,
     "input": [
      "ut.web(\"http://omabrowser.org/cgi-bin/gateway.pl?f=DisplayEntry&p1=7442632&p2=fasta\")"
     ],
     "language": "python",
     "metadata": {
      "slideshow": {
       "slide_type": "slide"
      }
     },
     "outputs": [
      {
       "html": [
        "<iframe src=\"http://omabrowser.org/cgi-bin/gateway.pl?f=DisplayEntry&p1=7442632&p2=fasta\"  width=100% height=500></iframe>"
       ],
       "metadata": {},
       "output_type": "pyout",
       "prompt_number": 7,
       "text": [
        "<IPython.core.display.HTML at 0x7fdcae833250>"
       ]
      }
     ],
     "prompt_number": 7
    },
    {
     "cell_type": "markdown",
     "metadata": {
      "slideshow": {
       "slide_type": "slide"
      }
     },
     "source": [
      "De manera similar a [wget en bash](http://manpages.ubuntu.com/manpages/precise/man1/wget.1.html), es posible descargar un archivo desde Python usando [urlretrieve del m\u00f3dulo urllib](https://docs.python.org/2/library/urllib.html#urllib.urlretrieve)"
     ]
    },
    {
     "cell_type": "code",
     "collapsed": false,
     "input": [
      "from urllib import urlretrieve\n",
      "urlretrieve(url=\"http://omabrowser.org/cgi-bin/gateway.pl?f=DisplayEntry&p1=7442632&p2=fasta\", filename=\"oma_prot.fasta\")"
     ],
     "language": "python",
     "metadata": {
      "slideshow": {
       "slide_type": "fragment"
      }
     },
     "outputs": [
      {
       "metadata": {},
       "output_type": "pyout",
       "prompt_number": 8,
       "text": [
        "('oma_prot.fasta', <httplib.HTTPMessage instance at 0x7fdcac11a098>)"
       ]
      }
     ],
     "prompt_number": 8
    },
    {
     "cell_type": "markdown",
     "metadata": {
      "slideshow": {
       "slide_type": "fragment"
      }
     },
     "source": [
      "```!``` al principio de la celda para correr cosas en ```bash``` s\u00f3lo funciona para ```IPython```. Cuando queremos correr algo en la consola desde otro lugar (en un *script* por ejemplo) lo correcto es usar el [m\u00f3dulo subprocess](https://docs.python.org/2/library/subprocess.html). "
     ]
    },
    {
     "cell_type": "code",
     "collapsed": false,
     "input": [
      "import subprocess\n",
      "print( subprocess.check_output([\"head\",\"oma_prot.fasta\"]) )"
     ],
     "language": "python",
     "metadata": {
      "slideshow": {
       "slide_type": "fragment"
      }
     },
     "outputs": [
      {
       "output_type": "stream",
       "stream": "stdout",
       "text": [
        ">NEOFI03466 | 3468 | self\n",
        "MGSIGTSLSSPPSRPGLSNTGAALQLWESASAVFSNPTALLSFTRNFQILDQDGILNWGKVAFLTTCIITMAGCGFLSSL\n",
        "LRRKGSKRSSGRKRFRRGIQNDDSKTSPGTTTSSEEEDYDSSGSLHHGTDAALPQEKVTHKHHEQSADANVGPCFGIDLP\n",
        "GCGLSTFAPTDWDAYTAEALAELLFTAIEQHRDREAGQKVVLIGHSMGCSLSALLASSASSIGSELKEHILGLVAICPRA\n",
        "SPPTPNEVASYRRLLRIPESIFDMWRYWDRRGGLHSASVNRLVGTDADPDTRELQVRYNKQSKTPVWRRMAWGTLPTYNK\n",
        "DGKAIGGIPGEEVWAGVKTSVLLVAGESDAVTKPAELQKLLKFFGEVGPHAEADGSAIIPDASETHDTVSAAYDRFAHEE\n",
        "EYGLEAQTSEKTLFDDRRASSEKKRAVKTVILPGPASHALLYDRATYRTLAGIIQDFLSQHIDERLSLGWQLQYMNTSGK\n",
        "WDVKNLAKWKKVTPVSQRIANTFVALKMLREVDEEHNPVLFSQKYRDQIYAVIDISYENPVYNPASLEKGGIHYQKHPTV\n",
        "SKIPPTADEVRDFIALVDRLQNEITEKMKKSGNPDGPRPVVGVHCHYGFNRTGFLIVSYLIERLGFRVQDAIDEFERQRP\n",
        "PGIRHGHFIDTLFVRYCVGLKRAPTL\n",
        "\n"
       ]
      }
     ],
     "prompt_number": 9
    },
    {
     "cell_type": "code",
     "collapsed": false,
     "input": [
      "from Bio import SeqIO\n",
      "sequencias = SeqIO.parse(\"oma_prot.fasta\",\"fasta\")\n",
      "for record in sequencias:\n",
      "    print(record.description)"
     ],
     "language": "python",
     "metadata": {
      "slideshow": {
       "slide_type": "slide"
      }
     },
     "outputs": [
      {
       "output_type": "stream",
       "stream": "stdout",
       "text": [
        "NEOFI03466 | 3468 | self\n",
        "CANAW00891 | EEQ42709.1 | 1:1 ortholog\n",
        "YARLI01308 | CAG83205 | 1:1 ortholog\n",
        "DEBHA02690 | CAG87221.2 | 1:1 ortholog\n",
        "ASPFU00310 | CADAFUAP00008608 | 1:1 ortholog\n",
        "PICST00685 | EAZ63971.2 | 1:1 ortholog\n",
        "MAGGR00130 | MGT_07323 | 1:1 ortholog\n",
        "BOTFB09431 | BC1G_07580 | 1:1 ortholog\n",
        "LODEL01807 | LELG_01811 | 1:1 ortholog\n",
        "PHANO04191 | SNU00549.1 | 1:1 ortholog\n",
        "NEUCR05891 | EFNCRP00000008938 | 1:1 ortholog\n",
        "MYCGR02936 | 106794 | 1:1 ortholog\n",
        "EMENI09848 | CADANIAP00004624 | 1:1 ortholog\n",
        "RHIOR12327 | RO3T_12793 | 1:1 ortholog\n",
        "MUCCI09396 | 114099 | 1:1 ortholog\n",
        "PENCW05617 | XP_002562094.1 | 1:1 ortholog\n",
        "CAPO305938 | EFW45371.1 | 1:1 ortholog\n",
        "SPIPN08140 | SPPG_08579T0 | 1:1 ortholog\n",
        "ASPCL08909 | CADACLAP00001661 | 1:1 ortholog\n",
        "ASPFN02310 | CADAFLAP00011056 | 1:1 ortholog\n",
        "FUSO404039 | FOXG_11483P0 | 1:1 ortholog\n",
        "AURPU03348 | 37701 | 1:1 ortholog\n",
        "HYPAI03031 | 53286 | 1:1 ortholog\n",
        "NEUT904225 | 122506 | 1:1 ortholog\n",
        "SCLS110059 | 10110 | 1:1 ortholog\n",
        "TUBMM04334 | 4337 | 1:1 ortholog\n",
        "EMEND02048 | 2050 | 1:1 ortholog\n",
        "PENCH06589 | 78603 | 1:1 ortholog\n",
        "HYPVG01410 | 209433 | 1:1 ortholog\n",
        "PASFU03815 | 187537 | 1:1 ortholog\n",
        "LEPMJ10899 | 10902 | 1:1 ortholog\n",
        "GIBZA03891 | 3892 | 1:1 ortholog\n",
        "EURHE05456 | 457908 | 1:1 ortholog\n",
        "COCLU05963 | 113545 | 1:1 ortholog\n",
        "CRYPA03439 | 284893 | 1:1 ortholog\n",
        "THIHE04779 | 2304547 | 1:1 ortholog\n",
        "VERDA01179 | 1179 | 1:1 ortholog\n",
        "ASPTN06658 | 6660 | 1:1 ortholog\n",
        "HYPJE02863 | 58361 | 1:1 ortholog\n",
        "NECHA02549 | 42949 | 1:1 ortholog\n",
        "PHYBL14953 | 152698 | 1:1 ortholog\n",
        "ASPOR00349 | 349 | 1:1 ortholog\n",
        "SPAPN00426 | 58177 | 1:1 ortholog\n",
        "PHAND00532 | 532 | 1:1 ortholog\n",
        "ASPAC02245 | 23310 | 1:1 ortholog\n"
       ]
      }
     ],
     "prompt_number": 10
    },
    {
     "cell_type": "code",
     "collapsed": false,
     "input": [
      "ut.web(\"http://xkcd.com/208/\")"
     ],
     "language": "python",
     "metadata": {
      "slideshow": {
       "slide_type": "slide"
      }
     },
     "outputs": [
      {
       "html": [
        "<iframe src=\"http://xkcd.com/208/\"  width=100% height=500></iframe>"
       ],
       "metadata": {},
       "output_type": "pyout",
       "prompt_number": 11,
       "text": [
        "<IPython.core.display.HTML at 0x7fdcac108790>"
       ]
      }
     ],
     "prompt_number": 11
    },
    {
     "cell_type": "markdown",
     "metadata": {
      "slideshow": {
       "slide_type": "slide"
      }
     },
     "source": [
      "En Python las expresiones regulares se obtienen a trav\u00e9s del [m\u00f3dulo re](https://docs.python.org/2/library/re.html)."
     ]
    },
    {
     "cell_type": "code",
     "collapsed": false,
     "input": [
      "import re\n",
      "buscar = re.compile(\" 1:1 ortholog$| self$\")"
     ],
     "language": "python",
     "metadata": {
      "slideshow": {
       "slide_type": "fragment"
      }
     },
     "outputs": [],
     "prompt_number": 34
    },
    {
     "cell_type": "code",
     "collapsed": false,
     "input": [
      "ut.web(\"http://regex101.com\", alto=500)"
     ],
     "language": "python",
     "metadata": {
      "slideshow": {
       "slide_type": "fragment"
      }
     },
     "outputs": [
      {
       "html": [
        "<iframe src=\"http://regex101.com\"  width=100% height=500></iframe>"
       ],
       "metadata": {},
       "output_type": "pyout",
       "prompt_number": 35,
       "text": [
        "<IPython.core.display.HTML at 0x7fdcac108b50>"
       ]
      }
     ],
     "prompt_number": 35
    },
    {
     "cell_type": "code",
     "collapsed": false,
     "input": [
      "ortholog = {}\n",
      "sequencias = SeqIO.parse(\"oma_prot.fasta\",\"fasta\")\n",
      "for record in sequencias:\n",
      "    if buscar.search(record.description):\n",
      "        ortholog[record.description] = record.seq\n",
      "ortholog"
     ],
     "language": "python",
     "metadata": {
      "slideshow": {
       "slide_type": "slide"
      }
     },
     "outputs": [
      {
       "metadata": {},
       "output_type": "pyout",
       "prompt_number": 36,
       "text": [
        "{'ASPAC02245 | 23310 | 1:1 ortholog': Seq('MVSSVVPPTFPTTSRPGIVESGALLRAWDTVYSTFSRSGISICFSHLTQISRYD...PTL', SingleLetterAlphabet()),\n",
        " 'ASPCL08909 | CADACLAP00001661 | 1:1 ortholog': Seq('MISAGTSLSSSTSPRSFFDIGAALQLWDSVSATLSHSTAFLGFSRSFHTLDADG...PTL', SingleLetterAlphabet()),\n",
        " 'ASPFN02310 | CADAFLAP00011056 | 1:1 ortholog': Seq('MGLTDSPTLPTTSRLGISDISAVIRFWDSIYSVFTNPTALLSFTRLSQSLDRDG...PTL', SingleLetterAlphabet()),\n",
        " 'ASPFU00310 | CADAFUAP00008608 | 1:1 ortholog': Seq('MHFSFAMSSICASLSLPPTHPGLSNTGAALQLWKSASAVFSNPTALLSLTRNFQ...PTL', SingleLetterAlphabet()),\n",
        " 'ASPOR00349 | 349 | 1:1 ortholog': Seq('MAGSQTTDPGLLKKHSTYISYTTSVATYPSIRTFYKPHPQKDKLPIKPSPIPLL...PTL', SingleLetterAlphabet()),\n",
        " 'ASPTN06658 | 6660 | 1:1 ortholog': Seq('MVGCGLLSSFLERKGFRKAGRRRRRTARSNDSKTSGTITSSDEGDEDDDYDSTG...PTL', SingleLetterAlphabet()),\n",
        " 'AURPU03348 | 37701 | 1:1 ortholog': Seq('MSSLVVIGGTIVFATASVYYLSRFASAKRDPDARDPSASDPGLLRKHSTQRSYT...TLS', SingleLetterAlphabet()),\n",
        " 'BOTFB09431 | BC1G_07580 | 1:1 ortholog': Seq('MSIINQSISIVQAATEQRDNVIGYEYFDYNQKAVAASASRVYTNTIQGKLSARD...QML', SingleLetterAlphabet()),\n",
        " 'CANAW00891 | EEQ42709.1 | 1:1 ortholog': Seq('MSEVDTDDTQELLATNAASGSSTTTGAPRFEALSSLSQSHQEKSSTKYKKISEF...YEK', SingleLetterAlphabet()),\n",
        " 'CAPO305938 | EFW45371.1 | 1:1 ortholog': Seq('MGWLSRIGSACGLDGVVSSSTVLAAAAASSVLVPLGVLYGRHAWRRFAAVDQTE...YAQ', SingleLetterAlphabet()),\n",
        " 'COCLU05963 | 113545 | 1:1 ortholog': Seq('MEPHSRPDPAQNGTLRLPQALLSLLRSSLTGSPSHLVTQTDSHLVRWNGADIKN...PTL', SingleLetterAlphabet()),\n",
        " 'CRYPA03439 | 284893 | 1:1 ortholog': Seq('MAASPTKNANGSIQAQDSTPAPESYGRCFHHHLPPPGDECHKLTTFLDAKATDP...NVL', SingleLetterAlphabet()),\n",
        " 'DEBHA02690 | CAG87221.2 | 1:1 ortholog': Seq('MSSEEENDELLAVTATNSGSASKIPNLTDQFKELSQLQESKTDTLLKKVWEFIK...PNY', SingleLetterAlphabet()),\n",
        " 'EMEND02048 | 2050 | 1:1 ortholog': Seq('MVGCGLLSSLLQRANSARSNKRRRFRRSLSDVHKGSGGTVTSSDEDGYESSESW...PTL', SingleLetterAlphabet()),\n",
        " 'EMENI09848 | CADANIAP00004624 | 1:1 ortholog': Seq('MVGCGLLSSLLQRANSARSNKRRRFRRSLSDVHKGSGGTVTSSDEDGYESSESW...PTL', SingleLetterAlphabet()),\n",
        " 'EURHE05456 | 457908 | 1:1 ortholog': Seq('MGSTGAPSLVPTSSSSSLSRTTFTFPSDIKGVLRIWDSVISSTLDHYRNGTVNW...PTL', SingleLetterAlphabet()),\n",
        " 'FUSO404039 | FOXG_11483P0 | 1:1 ortholog': Seq('MAIDYPGCGRSEFSVTNWDAYTTDALVELLETVIEDYRDKDAGQRVVLIGHSMG...TSV', SingleLetterAlphabet()),\n",
        " 'GIBZA03891 | 3892 | 1:1 ortholog': Seq('MAAPAEVVDVVRDAVDSTDPHLSDPPLLRDHSEFKTYESRGFKYSGIRIFYRQH...YNV', SingleLetterAlphabet()),\n",
        " 'HYPAI03031 | 53286 | 1:1 ortholog': Seq('MAKTAQGSSASAPESSLATDAHATDPALLRDHSQLKSYKTSRFEYPEIRVFFRQ...VEN', SingleLetterAlphabet()),\n",
        " 'HYPJE02863 | 58361 | 1:1 ortholog': Seq('MAKASPDSPPPEQSLSTDPHETDPALLQQHSHFKTYRTSRFEYPEIRVFFRQHV...GAC', SingleLetterAlphabet()),\n",
        " 'HYPVG01410 | 209433 | 1:1 ortholog': Seq('MAKTSLDSPPPGDSLSADPHDTDPALLRQHSHLKSYKTSRFEYPEIRVFYRQHV...VES', SingleLetterAlphabet()),\n",
        " 'LEPMJ10899 | 10902 | 1:1 ortholog': Seq('MEPHSRPCSSQNGTLRLPQALLLFLRTVLAGPDPDRVSQADAHPANWPDIRNLP...PTL', SingleLetterAlphabet()),\n",
        " 'LODEL01807 | LELG_01811 | 1:1 ortholog': Seq('MTQLDQKLLSDDGNKHHCSISSMNSRSDEAEDLLVAASNNGTSSYKDSSFLSLS...YDT', SingleLetterAlphabet()),\n",
        " 'MAGGR00130 | MGT_07323 | 1:1 ortholog': Seq('MSGAIEERLAQVLGRTNIAAHARYIIPALLLTMAASAPLLIYKRRSTTAGSSQH...QEQ', SingleLetterAlphabet()),\n",
        " 'MUCCI09396 | 114099 | 1:1 ortholog': Seq('MPTITNSLATVSSGTTLLALSLIAGVSCYYLFHDKRFSLSERLYFLICKRNIQE...GIR', SingleLetterAlphabet()),\n",
        " 'MYCGR02936 | 106794 | 1:1 ortholog': Seq('MASAVLGKLPSSWVASFSNSSLTFRWTFASIVSSMIGVMTIAWWTNNLHFSRRL...KDS', SingleLetterAlphabet()),\n",
        " 'NECHA02549 | 42949 | 1:1 ortholog': Seq('MTAPHSAAFQQAIDSTDPHLTDPSLLKDHSDFKSYSTSRFEYSGIRVFYRQHAK...TET', SingleLetterAlphabet()),\n",
        " 'NEOFI03466 | 3468 | self': Seq('MGSIGTSLSSPPSRPGLSNTGAALQLWESASAVFSNPTALLSFTRNFQILDQDG...PTL', SingleLetterAlphabet()),\n",
        " 'NEUCR05891 | EFNCRP00000008938 | 1:1 ortholog': Seq('MAPQNLKVLTDNTSHRSRGHGSTTSRQKQRDQNIHHVEVYLSRPAYLLSAPPTG...AEH', SingleLetterAlphabet()),\n",
        " 'NEUT904225 | 122506 | 1:1 ortholog': Seq('MAPQNLKVLTDNTSHRSRGHGSTTSRQKQRDQNIHHVEVYLSRPAYLLSAPPTG...AEH', SingleLetterAlphabet()),\n",
        " 'PASFU03815 | 187537 | 1:1 ortholog': Seq('MAEHLYAKLPLERLPVRLQRLLQTPVPRSWILPATLTWLLGLAPLAWFVYKRTS...IVG', SingleLetterAlphabet()),\n",
        " 'PENCH06589 | 78603 | 1:1 ortholog': Seq('MGSDAISALCDSLTTRSKSVAAVLRFFHSVRAAFQNASFASIASSFRGLYRNDN...PTL', SingleLetterAlphabet()),\n",
        " 'PENCW05617 | XP_002562094.1 | 1:1 ortholog': Seq('MGSDAISALCDSLTTRSKSVAAVLRFFHSARAAFQNASFASIASSFRGLYRNDN...PTL', SingleLetterAlphabet()),\n",
        " 'PHAND00532 | 532 | 1:1 ortholog': Seq('MVPSTNCTYSGIRTFYRPHPQESKLPRIPCPVPLLVFIHGLGGSVAQFNPILLS...PTL', SingleLetterAlphabet()),\n",
        " 'PHANO04191 | SNU00549.1 | 1:1 ortholog': Seq('MEPHSRPCSSHNGTLRLPQALVLLLKTALAGPTSAQVAQVVTDPNRPGNIKNPA...PTL', SingleLetterAlphabet()),\n",
        " 'PHYBL14953 | 152698 | 1:1 ortholog': Seq('MTRPSFHRNSVIFSIAAVGICYLYIDPWRTRRRMIERMWFLLSKRNLKEADLER...HRT', SingleLetterAlphabet()),\n",
        " 'PICST00685 | EAZ63971.2 | 1:1 ortholog': Seq('MSSSVSEDDVSELLAVSASSSQNGSSSNLAADKLKQLASEQLEKTATFWSKLHQ...YES', SingleLetterAlphabet()),\n",
        " 'RHIOR12327 | RO3T_12793 | 1:1 ortholog': Seq('MKIIESLIHNLQTNTTKTEITTSTSLALLSAAALFVYHYYSKKEIGLSERIRFL...NQR', SingleLetterAlphabet()),\n",
        " 'SCLS110059 | 10110 | 1:1 ortholog': Seq('MASFLLLSSFCLFFPLVLALPGNSVSPLLNSSSKLILPIQAVAASASRIYTNTI...PTL', SingleLetterAlphabet()),\n",
        " 'SPAPN00426 | 58177 | 1:1 ortholog': Seq('MSSDEESRELLAVSASTSPEPVSRPHLAKLSQLSQAQVEQTNTTLKRFCEFFKI...YES', SingleLetterAlphabet()),\n",
        " 'SPIPN08140 | SPPG_08579T0 | 1:1 ortholog': Seq('MMARLLSWPTDVHPLITKWGTTICATLGASILLAYLARRNRLTSCRATIQDDPL...CFS', SingleLetterAlphabet()),\n",
        " 'THIHE04779 | 2304547 | 1:1 ortholog': Seq('MASSDYDAKTTDPPLIQRSSSIKSYSTSRATYPKLRVFYRRHQHADNLPTSPAP...SET', SingleLetterAlphabet()),\n",
        " 'TUBMM04334 | 4337 | 1:1 ortholog': Seq('MVGAVLCGIPLVYVGLRSLRERRSKEEEVRSLKGAPDDGHSVHSNYESLSNASS...PTF', SingleLetterAlphabet()),\n",
        " 'VERDA01179 | 1179 | 1:1 ortholog': Seq('MAIKSPEVAGWIDGPASNPHHPDETDPQLLKDNSTVRSYTTSRFTYPSIRTFYR...EEP', SingleLetterAlphabet()),\n",
        " 'YARLI01308 | CAG83205 | 1:1 ortholog': Seq('MSLAFLKSLFFYNDLERHLVHEVEEPPLITKHCSMKKFRVGDKQLNLRVFNLPH...HTQ', SingleLetterAlphabet())}"
       ]
      }
     ],
     "prompt_number": 36
    },
    {
     "cell_type": "code",
     "collapsed": false,
     "input": [
      "with open(\"ortologos.fasta\",\"w\") as fh:\n",
      "    for desc, seq in ortholog.iteritems():\n",
      "        ident = desc.split(\"|\")[0].replace(\" \",\"\")\n",
      "        fh.write(\">%s\\n%s\\n\"%(ident,seq))"
     ],
     "language": "python",
     "metadata": {
      "slideshow": {
       "slide_type": "slide"
      }
     },
     "outputs": [],
     "prompt_number": 63
    },
    {
     "cell_type": "code",
     "collapsed": false,
     "input": [
      "salida = subprocess.check_output([\"head\", \"-4\", \"ortologos.fasta\"])\n",
      "salida"
     ],
     "language": "python",
     "metadata": {
      "slideshow": {
       "slide_type": "fragment"
      }
     },
     "outputs": [
      {
       "metadata": {},
       "output_type": "pyout",
       "prompt_number": 64,
       "text": [
        "'>BOTFB09431\\nMSIINQSISIVQAATEQRDNVIGYEYFDYNQKAVAASASRVYTNTIQGKLSARDMVQIALLCSVFPAFWYLRNGRKSEAYNDTKSLNGSAHGTIPKQSIDINDSEVVDPGLLKKHSEIRSYTTSRFTYPSLRIFFSRHAQADKLPTKPAPLPLLVFIHGLGGSVAQFNPLLTSLVNLASCLSIDLPGCGLSAFDPKLPWDAYTVDALAELVGKVIEDYREKDTKQGVVLIGHSLGCSIAALLASTTSPQSIALSENVMGLVAICPRAEPPSEDEVSKFKKLLLVPNLIFDLWRNWDRRGGPESASVHRFVGPSADDETKRLQARFNSQSKTAVWRRMAAGTLPVYENHIAKGGLAGKDVWKGLDIPVFLVAGAADNITKPGEIEKIAQFLGKSHPVQIDPDDKSEPIVDAAAPVDMSGNNKSTSNDINPLIEKLLLEKNPDTAVESLEDPSTPDDIERTENIPPQPLRPKRVLKTTIIPAPASHALLYMPTTVRTLAGLISDFLCTQVSPRLSLGWQLQFLSTSGKWDVKNLAKWQAVSPVSEPIAGIFRAMKTLREVDDSHCPEVFVKDWGEQIKDIVDISHESPVYDPRGLEKGGIRYHKFPTVSKIPPTSDEVVTFINLIDRLRGEQAARKEKEGAEGEEAVILGASNQML\\n>PHYBL14953\\nMTRPSFHRNSVIFSIAAVGICYLYIDPWRTRRRMIERMWFLLSKRNLKEADLERALVQAPEPPIIADNTQFVELNGHRLRIVHIIHELGSRVPLIVFIHGLGGQVSQWQRQIEYFSQTAHVLAIDLLGCGSSEVASDWDSYATDSLVKDVTDLLLNRYNYPSTVIIAHSYGCSIATFVAASPEIQTSLKALVLISPKENVDEAQKRSQRMIRWIPDWLFEWARTKDRKKGIYSQSVERLLGNESNIELRRQQLRWNLLSRTSVYKRLLFGARFPGKKVYENINAGVLLIGGNEDKITSPKDMFAIRDHLLGLDPLNNSSERLASLEEIRVPEPYVIPDVGHTPMVVRPQLVNAVISEFLIKNCGLDTLSGAWQVLHKTKGENKWDLKNYEKWARTANITTEPIGISLFRAMKVMRQTDTNHCPSAFLARYPEIGFIIDISNDTPPYRSSDFDHSRIKYLKLKTVSKIPPTREDVAKFIELTSSCWEERPDAQVAVHCHYGFNRTGFFICCYMIEKLGVSVPDAIEAFAAARPPGIRHAHFVDELYLRYSLLHRT\\n'"
       ]
      }
     ],
     "prompt_number": 64
    },
    {
     "cell_type": "code",
     "collapsed": false,
     "input": [
      "print( salida )"
     ],
     "language": "python",
     "metadata": {
      "slideshow": {
       "slide_type": "fragment"
      }
     },
     "outputs": [
      {
       "output_type": "stream",
       "stream": "stdout",
       "text": [
        ">BOTFB09431\n",
        "MSIINQSISIVQAATEQRDNVIGYEYFDYNQKAVAASASRVYTNTIQGKLSARDMVQIALLCSVFPAFWYLRNGRKSEAYNDTKSLNGSAHGTIPKQSIDINDSEVVDPGLLKKHSEIRSYTTSRFTYPSLRIFFSRHAQADKLPTKPAPLPLLVFIHGLGGSVAQFNPLLTSLVNLASCLSIDLPGCGLSAFDPKLPWDAYTVDALAELVGKVIEDYREKDTKQGVVLIGHSLGCSIAALLASTTSPQSIALSENVMGLVAICPRAEPPSEDEVSKFKKLLLVPNLIFDLWRNWDRRGGPESASVHRFVGPSADDETKRLQARFNSQSKTAVWRRMAAGTLPVYENHIAKGGLAGKDVWKGLDIPVFLVAGAADNITKPGEIEKIAQFLGKSHPVQIDPDDKSEPIVDAAAPVDMSGNNKSTSNDINPLIEKLLLEKNPDTAVESLEDPSTPDDIERTENIPPQPLRPKRVLKTTIIPAPASHALLYMPTTVRTLAGLISDFLCTQVSPRLSLGWQLQFLSTSGKWDVKNLAKWQAVSPVSEPIAGIFRAMKTLREVDDSHCPEVFVKDWGEQIKDIVDISHESPVYDPRGLEKGGIRYHKFPTVSKIPPTSDEVVTFINLIDRLRGEQAARKEKEGAEGEEAVILGASNQML\n",
        ">PHYBL14953\n",
        "MTRPSFHRNSVIFSIAAVGICYLYIDPWRTRRRMIERMWFLLSKRNLKEADLERALVQAPEPPIIADNTQFVELNGHRLRIVHIIHELGSRVPLIVFIHGLGGQVSQWQRQIEYFSQTAHVLAIDLLGCGSSEVASDWDSYATDSLVKDVTDLLLNRYNYPSTVIIAHSYGCSIATFVAASPEIQTSLKALVLISPKENVDEAQKRSQRMIRWIPDWLFEWARTKDRKKGIYSQSVERLLGNESNIELRRQQLRWNLLSRTSVYKRLLFGARFPGKKVYENINAGVLLIGGNEDKITSPKDMFAIRDHLLGLDPLNNSSERLASLEEIRVPEPYVIPDVGHTPMVVRPQLVNAVISEFLIKNCGLDTLSGAWQVLHKTKGENKWDLKNYEKWARTANITTEPIGISLFRAMKVMRQTDTNHCPSAFLARYPEIGFIIDISNDTPPYRSSDFDHSRIKYLKLKTVSKIPPTREDVAKFIELTSSCWEERPDAQVAVHCHYGFNRTGFFICCYMIEKLGVSVPDAIEAFAAARPPGIRHAHFVDELYLRYSLLHRT\n",
        "\n"
       ]
      }
     ],
     "prompt_number": 65
    },
    {
     "cell_type": "code",
     "collapsed": false,
     "input": [
      "subprocess.call([\"t_coffee\",\"ortologos.fasta\", \"-output=phylip\"])"
     ],
     "language": "python",
     "metadata": {
      "slideshow": {
       "slide_type": "slide"
      }
     },
     "outputs": [
      {
       "metadata": {},
       "output_type": "pyout",
       "prompt_number": 74,
       "text": [
        "0"
       ]
      }
     ],
     "prompt_number": 74
    },
    {
     "cell_type": "code",
     "collapsed": false,
     "input": [
      "salida = subprocess.check_output(\"ls -ltr | tail -9\", shell=True)\n",
      "print( salida )"
     ],
     "language": "python",
     "metadata": {
      "slideshow": {
       "slide_type": "fragment"
      }
     },
     "outputs": [
      {
       "output_type": "stream",
       "stream": "stdout",
       "text": [
        "-rw-rw-r-- 1 dzea dzea  29690 nov 26 00:04 ortologos.fasta\n",
        "-rw-rw-r-- 1 dzea dzea  73018 nov 26 00:05 ortologos.aln\n",
        "-rw-rw-r-- 1 dzea dzea 506810 nov 26 00:05 ortologos.html\n",
        "-rw-rw-r-- 1 dzea dzea  29592 nov 26 00:05 ortologos_clean.fasta\n",
        "-rw-rw-r-- 1 dzea dzea   1311 nov 26 00:05 ortologos_clean.dnd\n",
        "-rw-rw-r-- 1 dzea dzea  70145 nov 26 00:05 ortologos_clean.phylip\n",
        "-rw-rw-r-- 1 dzea dzea   1409 nov 26 00:28 ortologos.dnd\n",
        "-rw-rw-r-- 1 dzea dzea  70190 nov 26 00:28 ortologos.phylip\n",
        "-rw-r----- 1 dzea dzea  67244 nov 26 00:28 Filogenia Ortologos.ipynb\n",
        "\n"
       ]
      }
     ],
     "prompt_number": 79
    },
    {
     "cell_type": "code",
     "collapsed": false,
     "input": [
      "subprocess.os.listdir(\".\")"
     ],
     "language": "python",
     "metadata": {
      "slideshow": {
       "slide_type": "slide"
      }
     },
     "outputs": [
      {
       "metadata": {},
       "output_type": "pyout",
       "prompt_number": 76,
       "text": [
        "['ortologos_clean.dnd',\n",
        " 'ortologos.dnd',\n",
        " 'List comprehension.ipynb',\n",
        " 'Filogenia Ortologos.ipynb',\n",
        " 'ortologos.aln',\n",
        " 'oma_prot.fasta',\n",
        " 'utils_notebook.py',\n",
        " 'utils_notebook.pyc',\n",
        " 'ortologos_clean.fasta',\n",
        " 'ortologos.fasta',\n",
        " '.ipynb_checkpoints',\n",
        " 'ortologos.phylip',\n",
        " 'ortologos.html',\n",
        " 'wrong.file',\n",
        " 'ortologos_clean.phylip']"
       ]
      }
     ],
     "prompt_number": 76
    },
    {
     "cell_type": "code",
     "collapsed": false,
     "input": [
      "ut.web(\"ortologos.html\")"
     ],
     "language": "python",
     "metadata": {
      "slideshow": {
       "slide_type": "slide"
      }
     },
     "outputs": [
      {
       "html": [
        "<iframe src=\"ortologos.html\"  width=100% height=500></iframe>"
       ],
       "metadata": {},
       "output_type": "pyout",
       "prompt_number": 77,
       "text": [
        "<IPython.core.display.HTML at 0x7fdcac39d090>"
       ]
      }
     ],
     "prompt_number": 77
    },
    {
     "cell_type": "code",
     "collapsed": false,
     "input": [
      "! head -30 ortologos_clean.phylip"
     ],
     "language": "python",
     "metadata": {
      "slideshow": {
       "slide_type": "slide"
      }
     },
     "outputs": [
      {
       "output_type": "stream",
       "stream": "stdout",
       "text": [
        " 45 1175\r\n",
        "BC1G_07580  MSIINQ---- --SISIVQAA ---------- T--------- ----------\r\n",
        "152698      MTRPSF---- --HR------ ---------- ---------- -NS-------\r\n",
        "LELG_01811  MTQLDQ---- --KLLS-D-D GNKHHCSISS MN-SRS-DEA EDLLV---A-\r\n",
        "457908      MGSTGA---- --PSLV-P-T SSSSSLS--R TT-FTFPSDI KGVLRIWDSV\r\n",
        "MGT_07323   MSGAIE---- --ERLA-Q-V ---------- LG-------- ----------\r\n",
        "SPPG_08579  MMARLL---- --SWPT-D-V ---------- ---------- HPLI------\r\n",
        "78603       MGSDAI-S-- ---ALC-D-S LTTRSK---- --------SV AAVLRFFHSV\r\n",
        "10110       MASFLL---- --LSSFCLFF ---------- PLVLALP--- GN--------\r\n",
        "CADACLAP00  MISAGT---- --SLSS-S-- TSPRSF---- -------FDI GAALQLWDSV\r\n",
        "CAG87221.2  MSSEEE---- --ND------ ---------- ---------- -ELLA---VT\r\n",
        "10902       MEPHSR---- --PCSS-Q-N ---------- GT-LRLP--- QALLLFLRTV\r\n",
        "6660        MVGC------ ---------- ---------- ---------- ----------\r\n",
        "1179        MAIKSP---- --EVAG---- ---------- ---------- ----------\r\n",
        "CADAFLAP00  MGLTDS---- --PTLP-T-- TSRLGI---- -------SDI SAVIRFWDSI\r\n",
        "114099      MPTITN---- --SL------ ---------- ---------- -ATVS-----\r\n",
        "349         MAGS------ ---------- ---------- ---------- ----------\r\n",
        "187537      MAEHLY---- --AKLP-L-E ---------- ----RLP--- VRLQRLLQT-\r\n",
        "CADAFUAP00  MHFSFAMSSI CASLSL-P-- PTHPGL---- -------SNT GAALQLWKSA\r\n",
        "113545      MEPHSR---- --PDPA-Q-N ---------- GT-LRLP--- QALLSLLRSS\r\n",
        "XP_0025620  MGSDAI-S-- ---ALC-D-S LTTRSK---- --------SV AAVLRFFHSA\r\n",
        "RO3T_12793  MKIIES---- --LI------ ---------- ---------- -HNLQ---TN\r\n",
        "3892        MAAPAE---- --VVDV---- ---------- ---------- ----------\r\n",
        "209433      MAKTSL---- --DSP----- ---------- ---------- ----------\r\n",
        "EEQ42709.1  MSEVDT---- --DDT----- ---------- ---------- QELLA---TN\r\n",
        "2304547     MASSDY---- ---------- ---------- ---------- ----------\r\n",
        "532         MVP------- ---------- ---------- ---------- ----------\r\n",
        "FOXG_11483  ---------- ---------- ---------- ---------- ----------\r\n",
        "EAZ63971.2  MSSSVS---- --EDD----- ---------- ---------V SELLA---VS\r\n",
        "EFW45371.1  MGWLSR---- --IGSA-C-- ---------- ---------- ----------\r\n"
       ]
      }
     ],
     "prompt_number": 73
    }
   ],
   "metadata": {}
  }
 ]
}