{
 "cells": [
  {
   "cell_type": "markdown",
   "metadata": {
    "slideshow": {
     "slide_type": "slide"
    }
   },
   "source": [
    "<img src=\"imagenes/python-logo.png\">"
   ]
  },
  {
   "cell_type": "markdown",
   "metadata": {
    "slideshow": {
     "slide_type": "fragment"
    }
   },
   "source": [
    "# ¿Por qué aprender Python?\n",
    "\n",
    "- **¡Fácil de aprender!**  \n",
    "    Python es un lenguaje de alto nivel, fácil de leer y escribir: Sintaxis simple, similar al Inglés.\n",
    "- **Multiplataforma**  \n",
    "    Corre tanto en Unix como en Windows\n",
    "- **Muchas herramientas** disponibles para computación científica: *BioPython*, *SciPy*, *Numpy*, *pandas*, *matplotlib*\n",
    "- **Multipropósito**  \n",
    "    Se puede programar desde software de visualización de proteínas hasta servidores webs\n",
    "- Lenguaje **popular**, requerido por la industria de desarrollo de software o *data mining*"
   ]
  },
  {
   "cell_type": "markdown",
   "metadata": {
    "slideshow": {
     "slide_type": "slide"
    }
   },
   "source": [
    "## Software libre y código abierto  \n",
    "\n",
    "Tanto **Python** como *R* y *Julia* son proyectos **open source**.\n",
    "Éstos permiten que la comunidad mejore continuamente las herramientas. Sin cajas negras ni necesidades de reinventar la rueda.\n",
    "\n",
    "### Las 4 libertades del software libre:  \n",
    "\n",
    "1. La **libertad de usar** el programa, con cualquier propósito\n",
    "2. La **libertad de estudiar** cómo funciona el programa y modificarlo, adaptándolo a tus necesidades\n",
    "3. La **libertad de distribuir** copias del programa, con lo cual puedes ayudar a tu prójimo\n",
    "4. La **libertad de mejorar** el programa y hacer públicas esas mejoras a los demás, de modo que toda la comunidad se beneficie"
   ]
  },
  {
   "cell_type": "markdown",
   "metadata": {
    "slideshow": {
     "slide_type": "slide"
    }
   },
   "source": [
    "## Apto para procesamiento por lotes (*Batch processing*)\n",
    "\n",
    "El programador define como la computadora debe resolver el problema en un principio, pero no interactúa con el proceso mientras se ejecuta.   \n",
    "\n",
    "Es útil para **tareas lentas o repetitivas** sobre grandes conjuntos de datos, archivos, etc.  \n",
    "\n",
    "**Lenguajes para *Batch processing*:** *Perl*, *Python*, *Julia*, *R*, etc.\n",
    "\n",
    "### *Scripts* y *pipelines*\n",
    "\n",
    "Un programa que ejecuta otros programas, con algún código o lógica *\"de pegamento\"*, es normalmente llamado **script**.  \n",
    "\n",
    "El *script* puede ser en particular un **pipeline** si los programas son ordenados, de manera de que la salida de uno es la entrada del otro.  \n",
    "\n",
    "**Lenguajes particularmente buenos para escribir *scripts*:** *Bash*, *Julia* y *Python*, los dos primeros permiten además escribir *pipelines* muy fácilmente."
   ]
  },
  {
   "cell_type": "markdown",
   "metadata": {
    "slideshow": {
     "slide_type": "slide"
    }
   },
   "source": [
    "## Interactivo\n",
    "\n",
    "En la computación interactiva (*interactive computing*) las personas son parte activa del proceso. El programador usa la computadora como una herramienta para pensar y resolver problemas.\n",
    "\n",
    "En ciencias biológicas es útil para el **análisis de datos**, donde el científico debe ser parte activa del proceso.\n",
    "\n",
    "También es útil para **facilitar el desarrollo** de programas que luego serán usados para procesamiento por lotes (*scripts*).\n",
    "\n",
    "Se utilizan lenguajes de alto nivel a través de una **consola** o **REPL** (*read-eval-print loop*).\n",
    "\n",
    "**Lenguajes interactivos:** *Python*, *Julia*, *R*, etc."
   ]
  },
  {
   "cell_type": "markdown",
   "metadata": {
    "slideshow": {
     "slide_type": "slide"
    }
   },
   "source": [
    "<img src=\"imagenes/jupyter_logo.svg\">"
   ]
  },
  {
   "cell_type": "markdown",
   "metadata": {
    "slideshow": {
     "slide_type": "-"
    }
   },
   "source": [
    "**Jupyter** es una consola interactiva para diversos lenguajes o **kernels**, principalmente **Ju**lia (*IJulia*), **Pyt**hon (*IPython*) y ***R***.  \n",
    "Permite integrar código con sus resultados, anotaciones, imágenes, etc. Finalmente se obtiene una *notebook* que puede compartirse para que otros la ejecuten.  \n",
    "La idea detrás de esto es acercarse hacia una ciencia reproducible.\n",
    "> *Galileo was the first person to discover the moons of Jupiter. His publication on the moons of Jupiter is an early example of research that includes the underlying data in the publication. This is one of the core ideas and requirements for scientific reproducibility. Reproducibility is one of the main focuses of our project.*"
   ]
  },
  {
   "cell_type": "markdown",
   "metadata": {
    "slideshow": {
     "slide_type": "fragment"
    }
   },
   "source": [
    "**Celda** de *Jupyter* con anotaciones en [Markdown.](http://jupyter-notebook.readthedocs.io/en/latest/examples/Notebook/Working%20With%20Markdown%20Cells.html)"
   ]
  },
  {
   "cell_type": "code",
   "execution_count": null,
   "metadata": {
    "collapsed": false,
    "slideshow": {
     "slide_type": "fragment"
    }
   },
   "outputs": [],
   "source": [
    "print(\"Celda con código.\")"
   ]
  },
  {
   "cell_type": "markdown",
   "metadata": {
    "slideshow": {
     "slide_type": "slide"
    }
   },
   "source": [
    "# Introducción a la programación  \n"
   ]
  },
  {
   "cell_type": "markdown",
   "metadata": {
    "slideshow": {
     "slide_type": "slide"
    }
   },
   "source": [
    "## Primeros pasos con Python\n",
    "\n",
    "Siempre el primer programa es un **Hola mundo**, no rompamos la tradición."
   ]
  },
  {
   "cell_type": "code",
   "execution_count": null,
   "metadata": {
    "collapsed": false,
    "slideshow": {
     "slide_type": "fragment"
    }
   },
   "outputs": [],
   "source": [
    "# Esto es un comentario, no se ejecutan\n",
    "# Los comentarios comienzan con #\n",
    "# Solo sirven para anotar el código\n",
    "\n",
    "print(\"Hola mundo\")"
   ]
  },
  {
   "cell_type": "markdown",
   "metadata": {
    "slideshow": {
     "slide_type": "fragment"
    }
   },
   "source": [
    "`print()` es una **función**. Las funciones reciben sus argumentos entre los paréntesis y ejecutan una acción, a veces retornando algo. En este caso es una función que imprime a pantalla lo que recibe.  \n",
    "\n",
    "`\"Hola mundo\"` es un **string**. Las cadenas de texto/caracteres o *strings* se escriben entre comillas."
   ]
  },
  {
   "cell_type": "markdown",
   "metadata": {
    "slideshow": {
     "slide_type": "fragment"
    }
   },
   "source": [
    "Un **Hola mundo** en **Julia** sería:\n",
    "```julia\n",
    "println(\"Hola mundo\") # ln es por line\n",
    "```\n",
    "Mientras en **R** es:\n",
    "```r\n",
    "print(\"Hola mundo\")\n",
    "```\n",
    "En los tres lenguajes los comentarios comienzan con numeral (`#`)"
   ]
  },
  {
   "cell_type": "markdown",
   "metadata": {
    "slideshow": {
     "slide_type": "slide"
    }
   },
   "source": [
    "### Asignación de una variable\n",
    "\n",
    "Una **variable** almacena un **valor** en un espacio de memoria con un determinado **nombre**. En **Python** se asigna un valor a una variable de la siguiente forma:  \n",
    "\n",
    "```python\n",
    "nombre = valor\n",
    "```"
   ]
  },
  {
   "cell_type": "code",
   "execution_count": null,
   "metadata": {
    "collapsed": true,
    "slideshow": {
     "slide_type": "fragment"
    }
   },
   "outputs": [],
   "source": [
    "mensaje = \"Hola mundo\""
   ]
  },
  {
   "cell_type": "markdown",
   "metadata": {
    "slideshow": {
     "slide_type": "fragment"
    }
   },
   "source": [
    "Luego de ejecutar la asignación anterior tenemos un espacio en memoria con el nombre `mensaje` que contiene el valor `\"Hola mundo\"`."
   ]
  },
  {
   "cell_type": "markdown",
   "metadata": {
    "slideshow": {
     "slide_type": "fragment"
    }
   },
   "source": [
    "La **asignación de una variable** es igual en **Julia**:\n",
    "```julia\n",
    "nombre = valor\n",
    "```\n",
    "Pero en **R** se usa `<-` en lugar de `=` :\n",
    "```r\n",
    "nombre <- valor\n",
    "```"
   ]
  },
  {
   "cell_type": "markdown",
   "metadata": {
    "slideshow": {
     "slide_type": "slide"
    }
   },
   "source": [
    "La ventaja de almacenar un valor en una variable, es que puedo accederla y utilizarla más adelante en el programa."
   ]
  },
  {
   "cell_type": "code",
   "execution_count": null,
   "metadata": {
    "collapsed": false,
    "slideshow": {
     "slide_type": "fragment"
    }
   },
   "outputs": [],
   "source": [
    "print(mensaje)"
   ]
  },
  {
   "cell_type": "code",
   "execution_count": null,
   "metadata": {
    "collapsed": true,
    "slideshow": {
     "slide_type": "fragment"
    }
   },
   "outputs": [],
   "source": [
    "celsius = 24 # Número entero"
   ]
  },
  {
   "cell_type": "code",
   "execution_count": null,
   "metadata": {
    "collapsed": false,
    "slideshow": {
     "slide_type": "fragment"
    }
   },
   "outputs": [],
   "source": [
    "fahrenheit = celsius * (9.0/5.0) + 32.0 # Valores de coma flotante\n",
    "\n",
    "fahrenheit # Retorno el valor de la variable fahrenheit como output de la celda"
   ]
  },
  {
   "cell_type": "markdown",
   "metadata": {
    "slideshow": {
     "slide_type": "slide"
    }
   },
   "source": [
    "## Estructuras de control  \n"
   ]
  },
  {
   "cell_type": "markdown",
   "metadata": {
    "slideshow": {
     "slide_type": "slide"
    }
   },
   "source": [
    "### Decisión\n",
    "\n",
    "<img src=\"imagenes/if.png\">"
   ]
  },
  {
   "cell_type": "code",
   "execution_count": 3,
   "metadata": {
    "collapsed": true,
    "slideshow": {
     "slide_type": "fragment"
    }
   },
   "outputs": [],
   "source": [
    "# En Python verdadero es True y falso es False\n",
    "condicion = True\n",
    "\n",
    "if condicion:\n",
    "    # El código condicional va acá \n",
    "    # debería ejecutarse dado que condicion es True\n",
    "    # Si no tenemos aún el código, pero necesitas ocupar el lugar por la sintaxis podemos usar pass\n",
    "    pass\n",
    "else:\n",
    "    pass # No hay nada que hacer si es falso"
   ]
  },
  {
   "cell_type": "markdown",
   "metadata": {
    "slideshow": {
     "slide_type": "slide"
    }
   },
   "source": [
    "En **Python** los bloques están delimitados por el sangrado (indentación o *indentation*)\n",
    "```python\n",
    "if condicion:\n",
    "    # Bloque\n",
    "```\n",
    "En lugar de terminados con la sentencia `end` como en **Julia** \n",
    "```python\n",
    "if condicion\n",
    "    # Bloque\n",
    "end\n",
    "```\n",
    "O encerrados entre llaves como en **R**: \n",
    "```r\n",
    "if (condicion){\n",
    "   # Bloque\n",
    "}\n",
    "```\n",
    "El sangrado es obligatorio en Python, pero recomendado para todos los lenguajes.  \n",
    "\n",
    "<img src=\"imagenes/bloque.png\">"
   ]
  },
  {
   "cell_type": "code",
   "execution_count": 4,
   "metadata": {
    "collapsed": true,
    "slideshow": {
     "slide_type": "fragment"
    }
   },
   "outputs": [],
   "source": [
    "if True:\n",
    "    pass # Block 1\n",
    "    if True:\n",
    "        pass # Block 2\n",
    "        if True:\n",
    "            pass # Block 3\n",
    "        # Block 2, continuation\n",
    "    # Block 1, continuation"
   ]
  },
  {
   "cell_type": "markdown",
   "metadata": {
    "slideshow": {
     "slide_type": "slide"
    }
   },
   "source": [
    "#### Operadores de comparación"
   ]
  },
  {
   "cell_type": "code",
   "execution_count": 6,
   "metadata": {
    "collapsed": false,
    "slideshow": {
     "slide_type": "-"
    }
   },
   "outputs": [
    {
     "data": {
      "text/plain": [
       "False"
      ]
     },
     "execution_count": 6,
     "metadata": {},
     "output_type": "execute_result"
    }
   ],
   "source": [
    "\"Hola\" == \"mundo.\""
   ]
  },
  {
   "cell_type": "code",
   "execution_count": 7,
   "metadata": {
    "collapsed": false,
    "slideshow": {
     "slide_type": "-"
    }
   },
   "outputs": [
    {
     "data": {
      "text/plain": [
       "True"
      ]
     },
     "execution_count": 7,
     "metadata": {},
     "output_type": "execute_result"
    }
   ],
   "source": [
    "\"Hola\" != \"mundo.\""
   ]
  },
  {
   "cell_type": "code",
   "execution_count": 11,
   "metadata": {
    "collapsed": false,
    "slideshow": {
     "slide_type": "-"
    }
   },
   "outputs": [
    {
     "data": {
      "text/plain": [
       "False"
      ]
     },
     "execution_count": 11,
     "metadata": {},
     "output_type": "execute_result"
    }
   ],
   "source": [
    "20 >= 30"
   ]
  },
  {
   "cell_type": "code",
   "execution_count": 12,
   "metadata": {
    "collapsed": false,
    "slideshow": {
     "slide_type": "-"
    }
   },
   "outputs": [
    {
     "data": {
      "text/plain": [
       "True"
      ]
     },
     "execution_count": 12,
     "metadata": {},
     "output_type": "execute_result"
    }
   ],
   "source": [
    "20 <= 30"
   ]
  },
  {
   "cell_type": "markdown",
   "metadata": {
    "slideshow": {
     "slide_type": "slide"
    }
   },
   "source": [
    "#### Operadores lógicos\n",
    "\n",
    "En **Python** son `and`, `or` y `not`, pero en **Julia** y **R** son `&`, `|` y `!` (en estos últimos dos lenguajes tambien exiten `&&` y `||` que son **short-circuit** como los de Python)."
   ]
  },
  {
   "cell_type": "code",
   "execution_count": 13,
   "metadata": {
    "collapsed": false,
    "slideshow": {
     "slide_type": "-"
    }
   },
   "outputs": [
    {
     "data": {
      "text/plain": [
       "True"
      ]
     },
     "execution_count": 13,
     "metadata": {},
     "output_type": "execute_result"
    }
   ],
   "source": [
    "(10 <= 15) and (15 <= 20)"
   ]
  },
  {
   "cell_type": "markdown",
   "metadata": {
    "slideshow": {
     "slide_type": "slide"
    }
   },
   "source": [
    "### Iteración (*while loops*)\n",
    "\n",
    "<img src=\"imagenes/while.png\">"
   ]
  },
  {
   "cell_type": "code",
   "execution_count": 26,
   "metadata": {
    "collapsed": false,
    "slideshow": {
     "slide_type": "-"
    }
   },
   "outputs": [
    {
     "name": "stdout",
     "output_type": "stream",
     "text": [
      "0\n",
      "1\n",
      "2\n"
     ]
    }
   ],
   "source": [
    "numero = 0\n",
    "\n",
    "while numero < 3:\n",
    "    print(numero)\n",
    "    numero += 1"
   ]
  },
  {
   "cell_type": "markdown",
   "metadata": {
    "slideshow": {
     "slide_type": "slide"
    }
   },
   "source": [
    "### Iteración (*for loops*)\n",
    "\n",
    "<img src=\"imagenes/for.png\">"
   ]
  },
  {
   "cell_type": "code",
   "execution_count": 28,
   "metadata": {
    "collapsed": false,
    "slideshow": {
     "slide_type": "-"
    }
   },
   "outputs": [
    {
     "name": "stdout",
     "output_type": "stream",
     "text": [
      "A\n",
      "T\n",
      "G\n",
      "C\n",
      "A\n",
      "T\n"
     ]
    }
   ],
   "source": [
    "dna = \"ATGCAT\"\n",
    "\n",
    "for base in dna:\n",
    "    print(base)"
   ]
  },
  {
   "cell_type": "markdown",
   "metadata": {
    "slideshow": {
     "slide_type": "slide"
    }
   },
   "source": [
    "### Ejercicio\n",
    "\n",
    "<img src=\"imagenes/flow.png\">  \n",
    "\n",
    "**Completar** el cuerpo de la función siguiendo el diagrama.  \n",
    "Notar que **def** permite definir una función en Python.  \n",
    "Esta función va a tomar dos argumentos numéricos y debera retornar un *string* usando la sentencia **return**."
   ]
  },
  {
   "cell_type": "code",
   "execution_count": 43,
   "metadata": {
    "collapsed": false,
    "slideshow": {
     "slide_type": "-"
    }
   },
   "outputs": [],
   "source": [
    "def ejercicio(pay, hours):\n",
    "    pass # Completar"
   ]
  },
  {
   "cell_type": "markdown",
   "metadata": {
    "slideshow": {
     "slide_type": "slide"
    }
   },
   "source": [
    "## Programación orientada a objetos\n",
    "\n",
    "Python es un lenguaje orientado a objetos.\n",
    "\n",
    "Los objetos poseen **atributos** y **métodos**:   \n",
    "- Los atributos pueden pensarse como variables que pertenecen al objeto  \n",
    "- Los métodos pueden pensarse como funciones propias del objeto   \n",
    "\n",
    "Ambos se acceden usando el operador punto, aunque la mayoría de las objetos poseen métodos especiales para llamar a sus atributos.  \n",
    "\n",
    "```python\n",
    "objeto.atributo\n",
    "objeto.metodo(argumentos)\n",
    "```\n",
    "\n",
    "Por ejemplo los strings son un tipo de objeto que poseen métodos especiales como `upper` y `lower` para pasar a mayúsculas o minúsculas.  \n"
   ]
  },
  {
   "cell_type": "code",
   "execution_count": 47,
   "metadata": {
    "collapsed": true,
    "slideshow": {
     "slide_type": "-"
    }
   },
   "outputs": [],
   "source": [
    "dna = \"ATGCATATT\" # String"
   ]
  },
  {
   "cell_type": "code",
   "execution_count": 49,
   "metadata": {
    "collapsed": false,
    "slideshow": {
     "slide_type": "-"
    }
   },
   "outputs": [
    {
     "data": {
      "text/plain": [
       "'atgcatatt'"
      ]
     },
     "execution_count": 49,
     "metadata": {},
     "output_type": "execute_result"
    }
   ],
   "source": [
    "dna.lower() # Uso el método lower del objeto"
   ]
  },
  {
   "cell_type": "markdown",
   "metadata": {
    "slideshow": {
     "slide_type": "fragment"
    }
   },
   "source": [
    "En **Julia** y en **R** hacemos `metodo(objeto)` en lugar de `objeto.metodo()`"
   ]
  },
  {
   "cell_type": "markdown",
   "metadata": {
    "slideshow": {
     "slide_type": "slide"
    }
   },
   "source": [
    "En Python, los métodos y atributos que comienzan con guiones bajos, se consideran **privados** y **no** debe accederse a ellos de manera directa.  \n",
    "Algunos son especiales, como por ejemplo `__len__`:"
   ]
  },
  {
   "cell_type": "code",
   "execution_count": 50,
   "metadata": {
    "collapsed": false,
    "slideshow": {
     "slide_type": "-"
    }
   },
   "outputs": [
    {
     "data": {
      "text/plain": [
       "6"
      ]
     },
     "execution_count": 50,
     "metadata": {},
     "output_type": "execute_result"
    }
   ],
   "source": [
    "dna = \"ATGCAT\"\n",
    "\n",
    "dna.__len__() "
   ]
  },
  {
   "cell_type": "code",
   "execution_count": 52,
   "metadata": {
    "collapsed": false,
    "slideshow": {
     "slide_type": "-"
    }
   },
   "outputs": [
    {
     "data": {
      "text/plain": [
       "6"
      ]
     },
     "execution_count": 52,
     "metadata": {},
     "output_type": "execute_result"
    }
   ],
   "source": [
    "len(dna) # La función len() llama al método privado y especial __len__"
   ]
  },
  {
   "cell_type": "markdown",
   "metadata": {
    "slideshow": {
     "slide_type": "slide"
    }
   },
   "source": [
    "### Tipos de objetos básicos en Python  \n",
    " "
   ]
  },
  {
   "cell_type": "markdown",
   "metadata": {
    "slideshow": {
     "slide_type": "slide"
    }
   },
   "source": [
    "#### str\n",
    "Cadena de caracteres (inmutable)\n",
    "\n",
    "*Los tipos inmutables no permiten modificar un objeto ya creado*"
   ]
  },
  {
   "cell_type": "code",
   "execution_count": 54,
   "metadata": {
    "collapsed": true,
    "slideshow": {
     "slide_type": "-"
    }
   },
   "outputs": [],
   "source": [
    "texto = \"Hola mundo!\""
   ]
  },
  {
   "cell_type": "markdown",
   "metadata": {
    "slideshow": {
     "slide_type": "slide"
    }
   },
   "source": [
    "#### list\n",
    "Lista de diversos objetos (mutable)"
   ]
  },
  {
   "cell_type": "code",
   "execution_count": 55,
   "metadata": {
    "collapsed": true,
    "slideshow": {
     "slide_type": "-"
    }
   },
   "outputs": [],
   "source": [
    "lista = [ 1 , \"str\" , [ 10.0 , 42 ] ]"
   ]
  },
  {
   "cell_type": "markdown",
   "metadata": {
    "slideshow": {
     "slide_type": "slide"
    }
   },
   "source": [
    "#### tuple\n",
    "Lista de diversos objetos (inmutable)"
   ]
  },
  {
   "cell_type": "code",
   "execution_count": 56,
   "metadata": {
    "collapsed": true,
    "slideshow": {
     "slide_type": "-"
    }
   },
   "outputs": [],
   "source": [
    "tupla = ( 1, \"str\" , ( 10.0 , 42 ) )"
   ]
  },
  {
   "cell_type": "markdown",
   "metadata": {
    "slideshow": {
     "slide_type": "slide"
    }
   },
   "source": [
    "#### set\n",
    "Conjunto de valores únicos, no ordenados (mutable)"
   ]
  },
  {
   "cell_type": "code",
   "execution_count": 57,
   "metadata": {
    "collapsed": true,
    "slideshow": {
     "slide_type": "-"
    }
   },
   "outputs": [],
   "source": [
    "conjunto = set( [ 'A', 'A', 'C', 'A', 'T', 'T'] )"
   ]
  },
  {
   "cell_type": "markdown",
   "metadata": {
    "slideshow": {
     "slide_type": "slide"
    }
   },
   "source": [
    "#### dict\n",
    "Diccionario, pares de keys (llaves) y values (valores)"
   ]
  },
  {
   "cell_type": "code",
   "execution_count": null,
   "metadata": {
    "collapsed": true,
    "slideshow": {
     "slide_type": "-"
    }
   },
   "outputs": [],
   "source": [
    "diccionario = {'A':0.20,'T':0.20,'C':0.30,'G':0.30}"
   ]
  }
 ],
 "metadata": {
  "celltoolbar": "Slideshow",
  "kernelspec": {
   "display_name": "Python 2",
   "language": "python",
   "name": "python2"
  },
  "language_info": {
   "codemirror_mode": {
    "name": "ipython",
    "version": 2
   },
   "file_extension": ".py",
   "mimetype": "text/x-python",
   "name": "python",
   "nbconvert_exporter": "python",
   "pygments_lexer": "ipython2",
   "version": "2.7.6"
  }
 },
 "nbformat": 4,
 "nbformat_minor": 0
}
