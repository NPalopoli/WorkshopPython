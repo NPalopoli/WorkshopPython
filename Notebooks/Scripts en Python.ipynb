{
 "metadata": {
  "name": "",
  "signature": "sha256:57fa8a2c82767f7e1392b174cf18791305a2d837e96a33f7f5ab0995bdbb1bdc"
 },
 "nbformat": 3,
 "nbformat_minor": 0,
 "worksheets": [
  {
   "cells": [
    {
     "cell_type": "markdown",
     "metadata": {},
     "source": [
      "La manera de testear con Python es usar **[doctests](https://docs.python.org/2/library/doctest.html)**.\n",
      "\n",
      "Si ponen todas las funciones en un m\u00f3dulo, al importarse el m\u00f3dulo podr\u00e1 usarse en la consola. Es importante ofrecer funciones claras con documentaci\u00f3n a trav\u00e9s de doctrings (que deber\u00edan contener test). As\u00ed que es importante que las funciones tengan un nombre significativo, y par\u00e1metros \u00fatiles.\n",
      "\n",
      "Un consejo: si necesitan funciones que son partes de otras funciones m\u00e1s grandes y que no esperan que el usuario utilice, pueden comenzar el nombre de esa funci\u00f3n con un guion bajos:\n",
      "```\n",
      "def _privada(x):\n",
      "    return(x)\n",
      "```\n",
      "Python por ejemplo no importa las funciones que comienzan con guion bajo cuando hacemos:\n",
      "```\n",
      "from mimodulo import *\n",
      "```\n",
      "\n",
      "Los m\u00f3dulos pueden usarse como **[scripts](https://docs.python.org/2/tutorial/modules.html#executing-modules-as-scripts)**, m\u00e1s documentaci\u00f3n al respecto esta en la secci\u00f3n de **[m\u00f3dulos](https://docs.python.org/2/tutorial/modules.html)** del manual.\n",
      "Para poder parsear los argumentos que pasamos por la linea de comandos, y generar de manera casi autom\u00e1tica los mensajes de ayuda y error, es necesario usar **[argparse](https://docs.python.org/2/library/argparse.html)**."
     ]
    },
    {
     "cell_type": "code",
     "collapsed": false,
     "input": [
      "! cat ejemplo.py"
     ],
     "language": "python",
     "metadata": {},
     "outputs": [
      {
       "output_type": "stream",
       "stream": "stdout",
       "text": [
        "\"\"\"\r\n",
        "Modulo ejemplo\r\n",
        "\r\n",
        ">>> ej(\"2\")\r\n",
        "'Hola mundo dos'\r\n",
        ">>> ej()\r\n",
        "'Hola mundo '\r\n",
        "\"\"\"\r\n",
        "\r\n",
        "def ej(s=\"\"):\r\n",
        "\t\"\"\"Ejemplo\r\n",
        "\r\n",
        "\t>>> ej(\"!\")\r\n",
        "\t'Hola mundo!'\r\n",
        "\t\"\"\"\r\n",
        "\treturn( 'Hola mundo ' + s )\r\n",
        "\r\n",
        "if __name__ == \"__main__\":\r\n",
        "\timport argparse\r\n",
        "\tparser = argparse.ArgumentParser(description='Hola mundo mas algo...')\r\n",
        "\tparser.add_argument('Text', metavar='T', type=str, nargs=1,\r\n",
        "                   help='Texto a imprimir')\r\n",
        "\r\n",
        "\targs = parser.parse_args()\r\n",
        "\tprint(ej(args.Text[0]))\r\n"
       ]
      }
     ],
     "prompt_number": 24
    },
    {
     "cell_type": "markdown",
     "metadata": {},
     "source": [
      "##[argparse](https://docs.python.org/2/library/argparse.html)"
     ]
    },
    {
     "cell_type": "code",
     "collapsed": false,
     "input": [
      "! python ejemplo.py "
     ],
     "language": "python",
     "metadata": {},
     "outputs": [
      {
       "output_type": "stream",
       "stream": "stdout",
       "text": [
        "usage: ejemplo.py [-h] T\r\n",
        "ejemplo.py: error: too few arguments\r\n"
       ]
      }
     ],
     "prompt_number": 25
    },
    {
     "cell_type": "code",
     "collapsed": false,
     "input": [
      "! python ejemplo.py -h"
     ],
     "language": "python",
     "metadata": {},
     "outputs": [
      {
       "output_type": "stream",
       "stream": "stdout",
       "text": [
        "usage: ejemplo.py [-h] T\r\n",
        "\r\n",
        "Hola mundo mas algo...\r\n",
        "\r\n",
        "positional arguments:\r\n",
        "  T           Texto a imprimir\r\n",
        "\r\n",
        "optional arguments:\r\n",
        "  -h, --help  show this help message and exit\r\n"
       ]
      }
     ],
     "prompt_number": 26
    },
    {
     "cell_type": "code",
     "collapsed": false,
     "input": [
      "! python ejemplo.py cruel, pero menos cruel que ayer"
     ],
     "language": "python",
     "metadata": {},
     "outputs": [
      {
       "output_type": "stream",
       "stream": "stdout",
       "text": [
        "usage: ejemplo.py [-h] T\r\n",
        "ejemplo.py: error: unrecognized arguments: pero menos cruel que ayer\r\n"
       ]
      }
     ],
     "prompt_number": 27
    },
    {
     "cell_type": "code",
     "collapsed": false,
     "input": [
      "! python ejemplo.py \"cruel, pero menos cruel que ayer\""
     ],
     "language": "python",
     "metadata": {},
     "outputs": [
      {
       "output_type": "stream",
       "stream": "stdout",
       "text": [
        "Hola mundo cruel, pero menos cruel que ayer\r\n"
       ]
      }
     ],
     "prompt_number": 28
    },
    {
     "cell_type": "markdown",
     "metadata": {},
     "source": [
      "##[doctest](https://docs.python.org/2/library/doctest.html)"
     ]
    },
    {
     "cell_type": "code",
     "collapsed": false,
     "input": [
      "! python -m doctest ejemplo.py"
     ],
     "language": "python",
     "metadata": {},
     "outputs": [
      {
       "output_type": "stream",
       "stream": "stdout",
       "text": [
        "**********************************************************************\r\n",
        "File \"ejemplo.py\", line 4, in ejemplo\r\n",
        "Failed example:\r\n",
        "    ej(\"2\")\r\n",
        "Expected:\r\n",
        "    'Hola mundo dos'\r\n",
        "Got:\r\n",
        "    'Hola mundo 2'\r\n",
        "**********************************************************************\r\n",
        "File \"ejemplo.py\", line 13, in ejemplo.ej\r\n",
        "Failed example:\r\n",
        "    ej(\"!\")\r\n",
        "Expected:\r\n",
        "    'Hola mundo!'\r\n",
        "Got:\r\n",
        "    'Hola mundo !'\r\n",
        "**********************************************************************\r\n",
        "2 items had failures:\r\n",
        "   1 of   2 in ejemplo\r\n",
        "   1 of   1 in ejemplo.ej\r\n",
        "***Test Failed*** 2 failures.\r\n"
       ]
      }
     ],
     "prompt_number": 29
    },
    {
     "cell_type": "markdown",
     "metadata": {},
     "source": [
      "##[docstring](https://www.python.org/dev/peps/pep-0257/)"
     ]
    },
    {
     "cell_type": "code",
     "collapsed": false,
     "input": [
      "import ejemplo"
     ],
     "language": "python",
     "metadata": {},
     "outputs": [],
     "prompt_number": 31
    },
    {
     "cell_type": "code",
     "collapsed": false,
     "input": [
      "help(ejemplo)"
     ],
     "language": "python",
     "metadata": {},
     "outputs": [
      {
       "output_type": "stream",
       "stream": "stdout",
       "text": [
        "Help on module ejemplo:\n",
        "\n",
        "NAME\n",
        "    ejemplo - Modulo ejemplo\n",
        "\n",
        "FILE\n",
        "    /home/dzea/WorkshopPython/Pipelines/ejemplo.py\n",
        "\n",
        "DESCRIPTION\n",
        "    >>> ej(\"2\")\n",
        "    'Hola mundo dos'\n",
        "    >>> ej()\n",
        "    'Hola mundo '\n",
        "\n",
        "FUNCTIONS\n",
        "    ej(s='')\n",
        "        Ejemplo\n",
        "        \n",
        "        >>> ej(\"!\")\n",
        "        'Hola mundo!'\n",
        "\n",
        "\n"
       ]
      }
     ],
     "prompt_number": 34
    },
    {
     "cell_type": "code",
     "collapsed": false,
     "input": [
      "help(ejemplo.ej)"
     ],
     "language": "python",
     "metadata": {},
     "outputs": [
      {
       "output_type": "stream",
       "stream": "stdout",
       "text": [
        "Help on function ej in module ejemplo:\n",
        "\n",
        "ej(s='')\n",
        "    Ejemplo\n",
        "    \n",
        "    >>> ej(\"!\")\n",
        "    'Hola mundo!'\n",
        "\n"
       ]
      }
     ],
     "prompt_number": 35
    },
    {
     "cell_type": "code",
     "collapsed": false,
     "input": [
      "ejemplo.ej(\"!\")"
     ],
     "language": "python",
     "metadata": {},
     "outputs": [
      {
       "metadata": {},
       "output_type": "pyout",
       "prompt_number": 33,
       "text": [
        "'Hola mundo !'"
       ]
      }
     ],
     "prompt_number": 33
    }
   ],
   "metadata": {}
  }
 ]
}